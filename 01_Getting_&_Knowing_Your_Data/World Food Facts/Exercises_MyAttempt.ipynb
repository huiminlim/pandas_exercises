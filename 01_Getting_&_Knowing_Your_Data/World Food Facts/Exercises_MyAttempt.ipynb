{
 "cells": [
  {
   "cell_type": "markdown",
   "metadata": {},
   "source": [
    "# Exercise 1"
   ]
  },
  {
   "cell_type": "markdown",
   "metadata": {},
   "source": [
    "### Step 1. Go to https://www.kaggle.com/openfoodfacts/world-food-facts/data\n",
    "\n",
    "### Step 2. Download the dataset to your computer and unzip it.\n",
    "\n",
    "### Step 3. Use the tsv file and assign it to a dataframe called food"
   ]
  },
  {
   "cell_type": "markdown",
   "metadata": {},
   "source": [
    "`pd.read_table()` accepts the following arguments:\n",
    "\n",
    "* `filepath_or_buffer`: A string path to a URL (e.g. http, ftp, s3, file)\n",
    "\n",
    "* `sep`: A delimiter to use for the separator. Regex may be used, a separator longer than 1 character will be detected as regex. If `None` is detected, Python will automatically detect the separator.\n",
    "\n",
    "* `header`: Integer/list of row number(s) to use as column names. If `header=0`, first line defines the column names.\n",
    "\n",
    "* `nrows`: Integer to read in the number of rows desired. (Useful for large files)\n",
    "\n",
    "* `skip_blank_lines`: Boolean to skip over lines than interpret as `NaN`."
   ]
  },
  {
   "cell_type": "code",
   "execution_count": 1,
   "metadata": {
    "collapsed": true
   },
   "outputs": [],
   "source": [
    "import pandas as pd\n",
    "\n",
    "food = pd.read_table(\"en.openfoodfacts.org.products.tsv\", sep='\\t')"
   ]
  },
  {
   "cell_type": "markdown",
   "metadata": {},
   "source": [
    "### Step 4. See the first 5 entries"
   ]
  },
  {
   "cell_type": "code",
   "execution_count": 2,
   "metadata": {
    "collapsed": true
   },
   "outputs": [
    {
     "output_type": "execute_result",
     "data": {
      "text/plain": "    code                                                url  \\\n0   3087  http://world-en.openfoodfacts.org/product/0000...   \n1   4530  http://world-en.openfoodfacts.org/product/0000...   \n2   4559  http://world-en.openfoodfacts.org/product/0000...   \n3  16087  http://world-en.openfoodfacts.org/product/0000...   \n4  16094  http://world-en.openfoodfacts.org/product/0000...   \n\n                      creator   created_t      created_datetime  \\\n0  openfoodfacts-contributors  1474103866  2016-09-17T09:17:46Z   \n1             usda-ndb-import  1489069957  2017-03-09T14:32:37Z   \n2             usda-ndb-import  1489069957  2017-03-09T14:32:37Z   \n3             usda-ndb-import  1489055731  2017-03-09T10:35:31Z   \n4             usda-ndb-import  1489055653  2017-03-09T10:34:13Z   \n\n  last_modified_t last_modified_datetime                    product_name  \\\n0      1474103893   2016-09-17T09:18:13Z              Farine de blé noir   \n1      1489069957   2017-03-09T14:32:37Z  Banana Chips Sweetened (Whole)   \n2      1489069957   2017-03-09T14:32:37Z                         Peanuts   \n3      1489055731   2017-03-09T10:35:31Z          Organic Salted Nut Mix   \n4      1489055653   2017-03-09T10:34:13Z                 Organic Polenta   \n\n  generic_name quantity  ... fruits-vegetables-nuts_100g  \\\n0          NaN      1kg  ...                         NaN   \n1          NaN      NaN  ...                         NaN   \n2          NaN      NaN  ...                         NaN   \n3          NaN      NaN  ...                         NaN   \n4          NaN      NaN  ...                         NaN   \n\n  fruits-vegetables-nuts-estimate_100g collagen-meat-protein-ratio_100g  \\\n0                                  NaN                              NaN   \n1                                  NaN                              NaN   \n2                                  NaN                              NaN   \n3                                  NaN                              NaN   \n4                                  NaN                              NaN   \n\n  cocoa_100g chlorophyl_100g carbon-footprint_100g nutrition-score-fr_100g  \\\n0        NaN             NaN                   NaN                     NaN   \n1        NaN             NaN                   NaN                    14.0   \n2        NaN             NaN                   NaN                     0.0   \n3        NaN             NaN                   NaN                    12.0   \n4        NaN             NaN                   NaN                     NaN   \n\n  nutrition-score-uk_100g glycemic-index_100g water-hardness_100g  \n0                     NaN                 NaN                 NaN  \n1                    14.0                 NaN                 NaN  \n2                     0.0                 NaN                 NaN  \n3                    12.0                 NaN                 NaN  \n4                     NaN                 NaN                 NaN  \n\n[5 rows x 163 columns]",
      "text/html": "<div>\n<style scoped>\n    .dataframe tbody tr th:only-of-type {\n        vertical-align: middle;\n    }\n\n    .dataframe tbody tr th {\n        vertical-align: top;\n    }\n\n    .dataframe thead th {\n        text-align: right;\n    }\n</style>\n<table border=\"1\" class=\"dataframe\">\n  <thead>\n    <tr style=\"text-align: right;\">\n      <th></th>\n      <th>code</th>\n      <th>url</th>\n      <th>creator</th>\n      <th>created_t</th>\n      <th>created_datetime</th>\n      <th>last_modified_t</th>\n      <th>last_modified_datetime</th>\n      <th>product_name</th>\n      <th>generic_name</th>\n      <th>quantity</th>\n      <th>...</th>\n      <th>fruits-vegetables-nuts_100g</th>\n      <th>fruits-vegetables-nuts-estimate_100g</th>\n      <th>collagen-meat-protein-ratio_100g</th>\n      <th>cocoa_100g</th>\n      <th>chlorophyl_100g</th>\n      <th>carbon-footprint_100g</th>\n      <th>nutrition-score-fr_100g</th>\n      <th>nutrition-score-uk_100g</th>\n      <th>glycemic-index_100g</th>\n      <th>water-hardness_100g</th>\n    </tr>\n  </thead>\n  <tbody>\n    <tr>\n      <td>0</td>\n      <td>3087</td>\n      <td>http://world-en.openfoodfacts.org/product/0000...</td>\n      <td>openfoodfacts-contributors</td>\n      <td>1474103866</td>\n      <td>2016-09-17T09:17:46Z</td>\n      <td>1474103893</td>\n      <td>2016-09-17T09:18:13Z</td>\n      <td>Farine de blé noir</td>\n      <td>NaN</td>\n      <td>1kg</td>\n      <td>...</td>\n      <td>NaN</td>\n      <td>NaN</td>\n      <td>NaN</td>\n      <td>NaN</td>\n      <td>NaN</td>\n      <td>NaN</td>\n      <td>NaN</td>\n      <td>NaN</td>\n      <td>NaN</td>\n      <td>NaN</td>\n    </tr>\n    <tr>\n      <td>1</td>\n      <td>4530</td>\n      <td>http://world-en.openfoodfacts.org/product/0000...</td>\n      <td>usda-ndb-import</td>\n      <td>1489069957</td>\n      <td>2017-03-09T14:32:37Z</td>\n      <td>1489069957</td>\n      <td>2017-03-09T14:32:37Z</td>\n      <td>Banana Chips Sweetened (Whole)</td>\n      <td>NaN</td>\n      <td>NaN</td>\n      <td>...</td>\n      <td>NaN</td>\n      <td>NaN</td>\n      <td>NaN</td>\n      <td>NaN</td>\n      <td>NaN</td>\n      <td>NaN</td>\n      <td>14.0</td>\n      <td>14.0</td>\n      <td>NaN</td>\n      <td>NaN</td>\n    </tr>\n    <tr>\n      <td>2</td>\n      <td>4559</td>\n      <td>http://world-en.openfoodfacts.org/product/0000...</td>\n      <td>usda-ndb-import</td>\n      <td>1489069957</td>\n      <td>2017-03-09T14:32:37Z</td>\n      <td>1489069957</td>\n      <td>2017-03-09T14:32:37Z</td>\n      <td>Peanuts</td>\n      <td>NaN</td>\n      <td>NaN</td>\n      <td>...</td>\n      <td>NaN</td>\n      <td>NaN</td>\n      <td>NaN</td>\n      <td>NaN</td>\n      <td>NaN</td>\n      <td>NaN</td>\n      <td>0.0</td>\n      <td>0.0</td>\n      <td>NaN</td>\n      <td>NaN</td>\n    </tr>\n    <tr>\n      <td>3</td>\n      <td>16087</td>\n      <td>http://world-en.openfoodfacts.org/product/0000...</td>\n      <td>usda-ndb-import</td>\n      <td>1489055731</td>\n      <td>2017-03-09T10:35:31Z</td>\n      <td>1489055731</td>\n      <td>2017-03-09T10:35:31Z</td>\n      <td>Organic Salted Nut Mix</td>\n      <td>NaN</td>\n      <td>NaN</td>\n      <td>...</td>\n      <td>NaN</td>\n      <td>NaN</td>\n      <td>NaN</td>\n      <td>NaN</td>\n      <td>NaN</td>\n      <td>NaN</td>\n      <td>12.0</td>\n      <td>12.0</td>\n      <td>NaN</td>\n      <td>NaN</td>\n    </tr>\n    <tr>\n      <td>4</td>\n      <td>16094</td>\n      <td>http://world-en.openfoodfacts.org/product/0000...</td>\n      <td>usda-ndb-import</td>\n      <td>1489055653</td>\n      <td>2017-03-09T10:34:13Z</td>\n      <td>1489055653</td>\n      <td>2017-03-09T10:34:13Z</td>\n      <td>Organic Polenta</td>\n      <td>NaN</td>\n      <td>NaN</td>\n      <td>...</td>\n      <td>NaN</td>\n      <td>NaN</td>\n      <td>NaN</td>\n      <td>NaN</td>\n      <td>NaN</td>\n      <td>NaN</td>\n      <td>NaN</td>\n      <td>NaN</td>\n      <td>NaN</td>\n      <td>NaN</td>\n    </tr>\n  </tbody>\n</table>\n<p>5 rows × 163 columns</p>\n</div>"
     },
     "metadata": {},
     "execution_count": 2
    }
   ],
   "source": [
    "food.head(5)"
   ]
  },
  {
   "cell_type": "markdown",
   "metadata": {},
   "source": [
    "### Step 5. What is the number of observations in the dataset?"
   ]
  },
  {
   "cell_type": "code",
   "execution_count": 6,
   "metadata": {
    "collapsed": true
   },
   "outputs": [
    {
     "output_type": "execute_result",
     "data": {
      "text/plain": "356027"
     },
     "metadata": {},
     "execution_count": 6
    }
   ],
   "source": [
    "len(food)"
   ]
  },
  {
   "cell_type": "markdown",
   "metadata": {},
   "source": [
    "### Step 6. What is the number of columns in the dataset?"
   ]
  },
  {
   "cell_type": "code",
   "execution_count": 7,
   "metadata": {
    "collapsed": true
   },
   "outputs": [
    {
     "output_type": "execute_result",
     "data": {
      "text/plain": "163"
     },
     "metadata": {},
     "execution_count": 7
    }
   ],
   "source": [
    "len(food.columns)"
   ]
  },
  {
   "cell_type": "markdown",
   "metadata": {},
   "source": [
    "### Step 7. Print the name of all the columns."
   ]
  },
  {
   "cell_type": "code",
   "execution_count": 10,
   "metadata": {
    "collapsed": true
   },
   "outputs": [
    {
     "output_type": "stream",
     "name": "stdout",
     "text": "['code' 'url' 'creator' 'created_t' 'created_datetime' 'last_modified_t'\n 'last_modified_datetime' 'product_name' 'generic_name' 'quantity'\n 'packaging' 'packaging_tags' 'brands' 'brands_tags' 'categories'\n 'categories_tags' 'categories_en' 'origins' 'origins_tags'\n 'manufacturing_places' 'manufacturing_places_tags' 'labels' 'labels_tags'\n 'labels_en' 'emb_codes' 'emb_codes_tags' 'first_packaging_code_geo'\n 'cities' 'cities_tags' 'purchase_places' 'stores' 'countries'\n 'countries_tags' 'countries_en' 'ingredients_text' 'allergens'\n 'allergens_en' 'traces' 'traces_tags' 'traces_en' 'serving_size'\n 'no_nutriments' 'additives_n' 'additives' 'additives_tags' 'additives_en'\n 'ingredients_from_palm_oil_n' 'ingredients_from_palm_oil'\n 'ingredients_from_palm_oil_tags'\n 'ingredients_that_may_be_from_palm_oil_n'\n 'ingredients_that_may_be_from_palm_oil'\n 'ingredients_that_may_be_from_palm_oil_tags' 'nutrition_grade_uk'\n 'nutrition_grade_fr' 'pnns_groups_1' 'pnns_groups_2' 'states'\n 'states_tags' 'states_en' 'main_category' 'main_category_en' 'image_url'\n 'image_small_url' 'energy_100g' 'energy-from-fat_100g' 'fat_100g'\n 'saturated-fat_100g' '-butyric-acid_100g' '-caproic-acid_100g'\n '-caprylic-acid_100g' '-capric-acid_100g' '-lauric-acid_100g'\n '-myristic-acid_100g' '-palmitic-acid_100g' '-stearic-acid_100g'\n '-arachidic-acid_100g' '-behenic-acid_100g' '-lignoceric-acid_100g'\n '-cerotic-acid_100g' '-montanic-acid_100g' '-melissic-acid_100g'\n 'monounsaturated-fat_100g' 'polyunsaturated-fat_100g' 'omega-3-fat_100g'\n '-alpha-linolenic-acid_100g' '-eicosapentaenoic-acid_100g'\n '-docosahexaenoic-acid_100g' 'omega-6-fat_100g' '-linoleic-acid_100g'\n '-arachidonic-acid_100g' '-gamma-linolenic-acid_100g'\n '-dihomo-gamma-linolenic-acid_100g' 'omega-9-fat_100g' '-oleic-acid_100g'\n '-elaidic-acid_100g' '-gondoic-acid_100g' '-mead-acid_100g'\n '-erucic-acid_100g' '-nervonic-acid_100g' 'trans-fat_100g'\n 'cholesterol_100g' 'carbohydrates_100g' 'sugars_100g' '-sucrose_100g'\n '-glucose_100g' '-fructose_100g' '-lactose_100g' '-maltose_100g'\n '-maltodextrins_100g' 'starch_100g' 'polyols_100g' 'fiber_100g'\n 'proteins_100g' 'casein_100g' 'serum-proteins_100g' 'nucleotides_100g'\n 'salt_100g' 'sodium_100g' 'alcohol_100g' 'vitamin-a_100g'\n 'beta-carotene_100g' 'vitamin-d_100g' 'vitamin-e_100g' 'vitamin-k_100g'\n 'vitamin-c_100g' 'vitamin-b1_100g' 'vitamin-b2_100g' 'vitamin-pp_100g'\n 'vitamin-b6_100g' 'vitamin-b9_100g' 'folates_100g' 'vitamin-b12_100g'\n 'biotin_100g' 'pantothenic-acid_100g' 'silica_100g' 'bicarbonate_100g'\n 'potassium_100g' 'chloride_100g' 'calcium_100g' 'phosphorus_100g'\n 'iron_100g' 'magnesium_100g' 'zinc_100g' 'copper_100g' 'manganese_100g'\n 'fluoride_100g' 'selenium_100g' 'chromium_100g' 'molybdenum_100g'\n 'iodine_100g' 'caffeine_100g' 'taurine_100g' 'ph_100g'\n 'fruits-vegetables-nuts_100g' 'fruits-vegetables-nuts-estimate_100g'\n 'collagen-meat-protein-ratio_100g' 'cocoa_100g' 'chlorophyl_100g'\n 'carbon-footprint_100g' 'nutrition-score-fr_100g'\n 'nutrition-score-uk_100g' 'glycemic-index_100g' 'water-hardness_100g']\n"
    }
   ],
   "source": [
    "col_names = food.columns.values\n",
    "print(col_names)"
   ]
  },
  {
   "cell_type": "markdown",
   "metadata": {},
   "source": [
    "### Step 8. What is the name of 105th column?"
   ]
  },
  {
   "cell_type": "code",
   "execution_count": 19,
   "metadata": {
    "collapsed": true
   },
   "outputs": [
    {
     "output_type": "execute_result",
     "data": {
      "text/plain": "'-glucose_100g'"
     },
     "metadata": {},
     "execution_count": 19
    }
   ],
   "source": [
    "i = 105 - 1\n",
    "name_105 = food.columns.values[i]\n",
    "name_105"
   ]
  },
  {
   "cell_type": "markdown",
   "metadata": {},
   "source": [
    "### Step 9. What is the type of the observations of the 105th column?"
   ]
  },
  {
   "cell_type": "code",
   "execution_count": 21,
   "metadata": {
    "collapsed": true
   },
   "outputs": [
    {
     "output_type": "execute_result",
     "data": {
      "text/plain": "dtype('float64')"
     },
     "metadata": {},
     "execution_count": 21
    }
   ],
   "source": [
    "food[name_105].dtype"
   ]
  },
  {
   "cell_type": "markdown",
   "metadata": {},
   "source": [
    "### Step 10. How is the dataset indexed?"
   ]
  },
  {
   "cell_type": "code",
   "execution_count": 22,
   "metadata": {
    "collapsed": true
   },
   "outputs": [
    {
     "output_type": "execute_result",
     "data": {
      "text/plain": "RangeIndex(start=0, stop=356027, step=1)"
     },
     "metadata": {},
     "execution_count": 22
    }
   ],
   "source": [
    "food.index"
   ]
  },
  {
   "cell_type": "markdown",
   "metadata": {},
   "source": [
    "### Step 11. What is the product name of the 19th observation?"
   ]
  },
  {
   "cell_type": "code",
   "execution_count": 24,
   "metadata": {
    "collapsed": true
   },
   "outputs": [
    {
     "output_type": "execute_result",
     "data": {
      "text/plain": "'Lotus Organic Brown Jasmine Rice'"
     },
     "metadata": {},
     "execution_count": 24
    }
   ],
   "source": [
    "i = 19 - 1\n",
    "food.loc[i, \"product_name\"]"
   ]
  }
 ],
 "metadata": {
  "anaconda-cloud": {},
  "kernelspec": {
   "display_name": "Python 3.7.3 64-bit ('base': conda)",
   "language": "python",
   "name": "python37364bitbaseconda62919a5509fa43acb731e07cdd997c2a"
  },
  "language_info": {
   "codemirror_mode": {
    "name": "ipython",
    "version": 2
   },
   "file_extension": ".py",
   "mimetype": "text/x-python",
   "name": "python",
   "nbconvert_exporter": "python",
   "pygments_lexer": "ipython2",
   "version": "3.7.3-final"
  }
 },
 "nbformat": 4,
 "nbformat_minor": 0
}